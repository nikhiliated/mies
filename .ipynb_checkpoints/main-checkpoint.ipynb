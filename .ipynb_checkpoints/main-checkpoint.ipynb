{
 "cells": [
  {
   "cell_type": "code",
   "execution_count": 1,
   "metadata": {},
   "outputs": [],
   "source": [
    "import numpy as np\n",
    "import pandas as pd\n",
    "import extractor\n",
    "from sklearn.naive_bayes import GaussianNB\n",
    "from sklearn.model_selection import train_test_split\n",
    "from sklearn.model_selection import KFold\n",
    "from sklearn.metrics import accuracy_score\n",
    "import warnings\n",
    "warnings.filterwarnings('ignore')\n",
    "warnings.simplefilter(\"ignore\", DeprecationWarning)"
   ]
  },
  {
   "cell_type": "code",
   "execution_count": 2,
   "metadata": {},
   "outputs": [
    {
     "name": "stdout",
     "output_type": "stream",
     "text": [
      "\n",
      "Data Extraction Complete.\n"
     ]
    }
   ],
   "source": [
    "X_nik = extractor.features(13,\"nikhil/\")\n",
    "X_nik= pd.DataFrame(X_nik)\n",
    "X_nik['Class']=0\n",
    "\n",
    "X_ark = extractor.features(13,\"arka/\")\n",
    "X_ark= pd.DataFrame(X_ark)\n",
    "X_ark['Class']=1\n",
    "\n",
    "X_prv = extractor.features(13,\"prativa/\")\n",
    "X_prv= pd.DataFrame(X_prv)\n",
    "X_prv['Class']=2\n",
    "\n",
    "X_deb = extractor.features(13,\"debalina/\")\n",
    "X_deb= pd.DataFrame(X_deb)\n",
    "X_deb['Class']=3\n",
    "\n",
    "X_arn = extractor.features(13,\"aryendra/\")\n",
    "X_arn= pd.DataFrame(X_arn)\n",
    "X_arn['Class']=4\n",
    "print('\\nData Extraction Complete.')"
   ]
  },
  {
   "cell_type": "code",
   "execution_count": 3,
   "metadata": {},
   "outputs": [],
   "source": [
    "X_nik_train = X_nik[:int(X_nik.shape[0]*0.8)]\n",
    "X_nik_test = X_nik[int(X_nik.shape[0]*0.8):]\n",
    "\n",
    "X_ark_train = X_ark[:int(X_ark.shape[0]*0.8)]\n",
    "X_ark_test = X_ark[int(X_ark.shape[0]*0.8):]\n",
    "\n",
    "X_prv_train = X_prv[:int(X_prv.shape[0]*0.8)]\n",
    "X_prv_test = X_prv[int(X_prv.shape[0]*0.8):]\n",
    "\n",
    "X_deb_train = X_deb[:int(X_deb.shape[0]*0.8)]\n",
    "X_deb_test = X_deb[int(X_deb.shape[0]*0.8):]\n",
    "\n",
    "X_arn_train = X_arn[:int(X_arn.shape[0]*0.8)]\n",
    "X_arn_test = X_arn[int(X_arn.shape[0]*0.8):]"
   ]
  },
  {
   "cell_type": "code",
   "execution_count": 4,
   "metadata": {},
   "outputs": [
    {
     "data": {
      "text/html": [
       "<div>\n",
       "<style>\n",
       "    .dataframe thead tr:only-child th {\n",
       "        text-align: right;\n",
       "    }\n",
       "\n",
       "    .dataframe thead th {\n",
       "        text-align: left;\n",
       "    }\n",
       "\n",
       "    .dataframe tbody tr th {\n",
       "        vertical-align: top;\n",
       "    }\n",
       "</style>\n",
       "<table border=\"1\" class=\"dataframe\">\n",
       "  <thead>\n",
       "    <tr style=\"text-align: right;\">\n",
       "      <th></th>\n",
       "      <th>0</th>\n",
       "      <th>1</th>\n",
       "      <th>2</th>\n",
       "      <th>3</th>\n",
       "      <th>4</th>\n",
       "      <th>5</th>\n",
       "      <th>6</th>\n",
       "      <th>7</th>\n",
       "      <th>8</th>\n",
       "      <th>9</th>\n",
       "      <th>...</th>\n",
       "      <th>54</th>\n",
       "      <th>55</th>\n",
       "      <th>56</th>\n",
       "      <th>57</th>\n",
       "      <th>58</th>\n",
       "      <th>59</th>\n",
       "      <th>60</th>\n",
       "      <th>61</th>\n",
       "      <th>62</th>\n",
       "      <th>Class</th>\n",
       "    </tr>\n",
       "  </thead>\n",
       "  <tbody>\n",
       "    <tr>\n",
       "      <th>0</th>\n",
       "      <td>15.411765</td>\n",
       "      <td>9.178356</td>\n",
       "      <td>2.0</td>\n",
       "      <td>33.0</td>\n",
       "      <td>31.0</td>\n",
       "      <td>11.470588</td>\n",
       "      <td>2.830873</td>\n",
       "      <td>3.0</td>\n",
       "      <td>13.0</td>\n",
       "      <td>10.0</td>\n",
       "      <td>...</td>\n",
       "      <td>0.057895</td>\n",
       "      <td>903.0</td>\n",
       "      <td>382.715187</td>\n",
       "      <td>8.0</td>\n",
       "      <td>365.0</td>\n",
       "      <td>4.0</td>\n",
       "      <td>1867.0</td>\n",
       "      <td>2.067553</td>\n",
       "      <td>1.0</td>\n",
       "      <td>4</td>\n",
       "    </tr>\n",
       "    <tr>\n",
       "      <th>1</th>\n",
       "      <td>32.235294</td>\n",
       "      <td>11.978065</td>\n",
       "      <td>0.0</td>\n",
       "      <td>47.0</td>\n",
       "      <td>47.0</td>\n",
       "      <td>13.705882</td>\n",
       "      <td>9.989787</td>\n",
       "      <td>0.0</td>\n",
       "      <td>29.0</td>\n",
       "      <td>29.0</td>\n",
       "      <td>...</td>\n",
       "      <td>0.459119</td>\n",
       "      <td>939.0</td>\n",
       "      <td>337.296362</td>\n",
       "      <td>18.0</td>\n",
       "      <td>342.0</td>\n",
       "      <td>4.0</td>\n",
       "      <td>2464.0</td>\n",
       "      <td>2.624068</td>\n",
       "      <td>1.0</td>\n",
       "      <td>4</td>\n",
       "    </tr>\n",
       "    <tr>\n",
       "      <th>2</th>\n",
       "      <td>17.800000</td>\n",
       "      <td>6.779381</td>\n",
       "      <td>8.0</td>\n",
       "      <td>33.0</td>\n",
       "      <td>25.0</td>\n",
       "      <td>10.700000</td>\n",
       "      <td>5.532630</td>\n",
       "      <td>6.0</td>\n",
       "      <td>24.0</td>\n",
       "      <td>18.0</td>\n",
       "      <td>...</td>\n",
       "      <td>0.253393</td>\n",
       "      <td>646.0</td>\n",
       "      <td>51.419712</td>\n",
       "      <td>4.0</td>\n",
       "      <td>438.0</td>\n",
       "      <td>4.0</td>\n",
       "      <td>2672.0</td>\n",
       "      <td>4.136223</td>\n",
       "      <td>1.0</td>\n",
       "      <td>4</td>\n",
       "    </tr>\n",
       "    <tr>\n",
       "      <th>3</th>\n",
       "      <td>22.363636</td>\n",
       "      <td>2.346089</td>\n",
       "      <td>18.0</td>\n",
       "      <td>26.0</td>\n",
       "      <td>8.0</td>\n",
       "      <td>13.090909</td>\n",
       "      <td>9.931168</td>\n",
       "      <td>0.0</td>\n",
       "      <td>29.0</td>\n",
       "      <td>29.0</td>\n",
       "      <td>...</td>\n",
       "      <td>0.030283</td>\n",
       "      <td>634.0</td>\n",
       "      <td>57.671703</td>\n",
       "      <td>1.0</td>\n",
       "      <td>390.0</td>\n",
       "      <td>4.0</td>\n",
       "      <td>2916.0</td>\n",
       "      <td>4.599369</td>\n",
       "      <td>1.0</td>\n",
       "      <td>4</td>\n",
       "    </tr>\n",
       "    <tr>\n",
       "      <th>4</th>\n",
       "      <td>24.025000</td>\n",
       "      <td>13.338830</td>\n",
       "      <td>2.0</td>\n",
       "      <td>43.0</td>\n",
       "      <td>41.0</td>\n",
       "      <td>13.525000</td>\n",
       "      <td>6.726766</td>\n",
       "      <td>2.0</td>\n",
       "      <td>30.0</td>\n",
       "      <td>28.0</td>\n",
       "      <td>...</td>\n",
       "      <td>0.235570</td>\n",
       "      <td>999.0</td>\n",
       "      <td>404.418047</td>\n",
       "      <td>11.0</td>\n",
       "      <td>390.0</td>\n",
       "      <td>4.0</td>\n",
       "      <td>3525.0</td>\n",
       "      <td>3.528529</td>\n",
       "      <td>1.0</td>\n",
       "      <td>4</td>\n",
       "    </tr>\n",
       "  </tbody>\n",
       "</table>\n",
       "<p>5 rows × 64 columns</p>\n",
       "</div>"
      ],
      "text/plain": [
       "           0          1     2     3     4          5         6    7     8  \\\n",
       "0  15.411765   9.178356   2.0  33.0  31.0  11.470588  2.830873  3.0  13.0   \n",
       "1  32.235294  11.978065   0.0  47.0  47.0  13.705882  9.989787  0.0  29.0   \n",
       "2  17.800000   6.779381   8.0  33.0  25.0  10.700000  5.532630  6.0  24.0   \n",
       "3  22.363636   2.346089  18.0  26.0   8.0  13.090909  9.931168  0.0  29.0   \n",
       "4  24.025000  13.338830   2.0  43.0  41.0  13.525000  6.726766  2.0  30.0   \n",
       "\n",
       "      9  ...          54     55          56    57     58   59      60  \\\n",
       "0  10.0  ...    0.057895  903.0  382.715187   8.0  365.0  4.0  1867.0   \n",
       "1  29.0  ...    0.459119  939.0  337.296362  18.0  342.0  4.0  2464.0   \n",
       "2  18.0  ...    0.253393  646.0   51.419712   4.0  438.0  4.0  2672.0   \n",
       "3  29.0  ...    0.030283  634.0   57.671703   1.0  390.0  4.0  2916.0   \n",
       "4  28.0  ...    0.235570  999.0  404.418047  11.0  390.0  4.0  3525.0   \n",
       "\n",
       "         61   62  Class  \n",
       "0  2.067553  1.0      4  \n",
       "1  2.624068  1.0      4  \n",
       "2  4.136223  1.0      4  \n",
       "3  4.599369  1.0      4  \n",
       "4  3.528529  1.0      4  \n",
       "\n",
       "[5 rows x 64 columns]"
      ]
     },
     "execution_count": 4,
     "metadata": {},
     "output_type": "execute_result"
    }
   ],
   "source": [
    "X_arn.head()"
   ]
  },
  {
   "cell_type": "code",
   "execution_count": 5,
   "metadata": {},
   "outputs": [
    {
     "name": "stdout",
     "output_type": "stream",
     "text": [
      "\n",
      "Pre-processing Done.\n"
     ]
    }
   ],
   "source": [
    "X_train=X_nik_train.append([X_ark_train,X_prv_train,X_deb_train,X_arn_train])\n",
    "X_test=X_nik_test.append([X_ark_test,X_prv_test,X_deb_test,X_arn_test])\n",
    "\n",
    "y_train=X_train[['Class']]\n",
    "y_test=X_test[['Class']]\n",
    "X_data=X_train.append(X_test)\n",
    "X_data = X_data.reset_index(drop=True)\n",
    "y_data=y_train.append(y_test)\n",
    "y_data = y_data.reset_index(drop=True)\n",
    "print('\\nPre-processing Done.')"
   ]
  },
  {
   "cell_type": "code",
   "execution_count": 6,
   "metadata": {},
   "outputs": [
    {
     "name": "stdout",
     "output_type": "stream",
     "text": [
      "\n",
      "Count of different classes in Train set:\n",
      "3    1004\n",
      "1     769\n",
      "4     651\n",
      "2     635\n",
      "0     520\n",
      "Name: Class, dtype: int64\n"
     ]
    }
   ],
   "source": [
    "print('\\nCount of different classes in Train set:')\n",
    "print(X_train['Class'].value_counts())"
   ]
  },
  {
   "cell_type": "code",
   "execution_count": 7,
   "metadata": {},
   "outputs": [
    {
     "name": "stdout",
     "output_type": "stream",
     "text": [
      "\n",
      "Count of different classes in Test set:\n",
      "3    251\n",
      "1    193\n",
      "4    163\n",
      "2    159\n",
      "0    131\n",
      "Name: Class, dtype: int64\n"
     ]
    }
   ],
   "source": [
    "print('\\nCount of different classes in Test set:')\n",
    "print(X_test['Class'].value_counts())"
   ]
  },
  {
   "cell_type": "code",
   "execution_count": 8,
   "metadata": {},
   "outputs": [],
   "source": [
    "feats=[c for c in X_train.columns if c!='Class']"
   ]
  },
  {
   "cell_type": "code",
   "execution_count": 9,
   "metadata": {},
   "outputs": [
    {
     "name": "stdout",
     "output_type": "stream",
     "text": [
      "\n",
      "Implementing Gaussian Naive Bayes Model.\n"
     ]
    }
   ],
   "source": [
    "# Train classifier\n",
    "print('\\nImplementing Gaussian Naive Bayes Model.')\n",
    "gnb = GaussianNB()\n",
    "gnb.fit(\n",
    "    X_train[feats].values,\n",
    "    y_train['Class']\n",
    ")\n",
    "y_pred = gnb.predict(X_test[feats].values)"
   ]
  },
  {
   "cell_type": "code",
   "execution_count": 10,
   "metadata": {},
   "outputs": [
    {
     "name": "stdout",
     "output_type": "stream",
     "text": [
      "\n",
      "Number of mislabeled points out of a total 897 points : 453, Accuracy: 49.49833%\n"
     ]
    }
   ],
   "source": [
    "print(\"\\nNumber of mislabeled points out of a total {} points : {}, Accuracy: {:05.5f}%\"\n",
    "      .format(\n",
    "          X_test.shape[0],\n",
    "          (X_test[\"Class\"] != y_pred).sum(),\n",
    "          100*(1-(X_test[\"Class\"] != y_pred).sum()/X_test.shape[0])\n",
    "))"
   ]
  },
  {
   "cell_type": "code",
   "execution_count": 11,
   "metadata": {},
   "outputs": [],
   "source": [
    "cv = KFold(n_splits=5)\n",
    "clf = GaussianNB()\n",
    "X_data=X_data.values\n",
    "y_data=y_data.values\n",
    "accuracy=0\n",
    "for traincv, testcv in cv.split(X_data):\n",
    "        clf.fit(X_data[traincv], y_data[traincv])\n",
    "        train_predictions = clf.predict(X_data[testcv])\n",
    "        acc = accuracy_score(y_data[testcv], train_predictions)\n",
    "        accuracy+= acc"
   ]
  },
  {
   "cell_type": "code",
   "execution_count": 12,
   "metadata": {},
   "outputs": [
    {
     "name": "stdout",
     "output_type": "stream",
     "text": [
      "5 Fold Cross Validation Accuracy on Training Set: 0.7899441340782123\n"
     ]
    }
   ],
   "source": [
    "print('\\n5 Fold Cross Validation Accuracy on Training Set: '+str(accuracy))"
   ]
  },
  {
   "cell_type": "code",
   "execution_count": null,
   "metadata": {},
   "outputs": [],
   "source": []
  }
 ],
 "metadata": {
  "kernelspec": {
   "display_name": "Python 3",
   "language": "python",
   "name": "python3"
  },
  "language_info": {
   "codemirror_mode": {
    "name": "ipython",
    "version": 3
   },
   "file_extension": ".py",
   "mimetype": "text/x-python",
   "name": "python",
   "nbconvert_exporter": "python",
   "pygments_lexer": "ipython3",
   "version": "3.6.3"
  }
 },
 "nbformat": 4,
 "nbformat_minor": 2
}
